{
 "cells": [
  {
   "cell_type": "markdown",
   "id": "26884d50",
   "metadata": {},
   "source": [
    "# Stage #4: Combine and Summarize\n",
    "\n",
    "---"
   ]
  },
  {
   "cell_type": "markdown",
   "id": "2fb81d51",
   "metadata": {},
   "source": [
    "## Preparation"
   ]
  },
  {
   "cell_type": "code",
   "execution_count": 1,
   "id": "72190417",
   "metadata": {},
   "outputs": [],
   "source": [
    "import pandas as pd"
   ]
  },
  {
   "cell_type": "code",
   "execution_count": 2,
   "id": "773a1c7b",
   "metadata": {},
   "outputs": [],
   "source": [
    "pd.set_option(\"display.max_columns\", None)\n",
    "df = pd.read_csv(\"C:/Users/malvi/Desktop/data-hw-Malvika-R5/Titanic/dataset_201_guide.csv\")"
   ]
  },
  {
   "cell_type": "markdown",
   "id": "afdedfbf",
   "metadata": {},
   "source": [
    "## 1. How much money was collected from all passengers?"
   ]
  },
  {
   "cell_type": "code",
   "execution_count": 3,
   "id": "e8614516",
   "metadata": {},
   "outputs": [
    {
     "name": "stdout",
     "output_type": "stream",
     "text": [
      "The total money collected from all the passengers is 28693.95\n"
     ]
    }
   ],
   "source": [
    "df[\"Fare\"].sum().round(2)\n",
    "\n",
    "print(f'The total money collected from all the passengers is {df[\"Fare\"].sum().round(2)}')"
   ]
  },
  {
   "cell_type": "markdown",
   "id": "647483e8",
   "metadata": {},
   "source": [
    "## 2. How much money was collected from each passenger class?"
   ]
  },
  {
   "cell_type": "code",
   "execution_count": 9,
   "id": "36a632aa",
   "metadata": {},
   "outputs": [
    {
     "name": "stdout",
     "output_type": "stream",
     "text": [
      "The total money collected from the passengers in each class:\n",
      "Pclass\n",
      "1    18177.41\n",
      "2     3801.84\n",
      "3     6714.70\n",
      "Name: Fare, dtype: float64\n"
     ]
    }
   ],
   "source": [
    "df.groupby(\"Pclass\")[\"Fare\"].sum().round(2)\n",
    "\n",
    "print(f'The total money collected from the passengers in each class:')\n",
    "print(df.groupby(\"Pclass\")[\"Fare\"].sum().round(2))"
   ]
  },
  {
   "cell_type": "markdown",
   "id": "5b039890",
   "metadata": {},
   "source": [
    "## 3. How much money was collected based on survival?"
   ]
  },
  {
   "cell_type": "code",
   "execution_count": 5,
   "id": "85c74612",
   "metadata": {},
   "outputs": [
    {
     "data": {
      "text/plain": [
       "Survived\n",
       "1    16551.23\n",
       "0    12142.72\n",
       "Name: Fare, dtype: float64"
      ]
     },
     "execution_count": 5,
     "metadata": {},
     "output_type": "execute_result"
    }
   ],
   "source": [
    "df.groupby(\"Survived\")[\"Fare\"].sum().round(2).sort_values(ascending=False)"
   ]
  },
  {
   "cell_type": "markdown",
   "id": "d8b49020",
   "metadata": {},
   "source": [
    "## 4. How much money was from each port?"
   ]
  },
  {
   "cell_type": "code",
   "execution_count": 6,
   "id": "cbe26f9a",
   "metadata": {},
   "outputs": [
    {
     "data": {
      "text/plain": [
       "Embarked\n",
       "S    17439.40\n",
       "C    10072.30\n",
       "Q     1022.25\n",
       "Name: Fare, dtype: float64"
      ]
     },
     "execution_count": 6,
     "metadata": {},
     "output_type": "execute_result"
    }
   ],
   "source": [
    "df.groupby(\"Embarked\")[\"Fare\"].sum().round(2).sort_values(ascending=False)"
   ]
  },
  {
   "cell_type": "markdown",
   "id": "536c25dc",
   "metadata": {},
   "source": [
    "## 5. How much money was collected based on survival in each passenger class?"
   ]
  },
  {
   "cell_type": "code",
   "execution_count": 7,
   "id": "78187f6b",
   "metadata": {},
   "outputs": [
    {
     "data": {
      "text/plain": [
       "Pclass  Survived\n",
       "1       0            5174.72\n",
       "        1           13002.69\n",
       "2       0            1883.00\n",
       "        1            1918.85\n",
       "3       0            5085.00\n",
       "        1            1629.69\n",
       "Name: Fare, dtype: float64"
      ]
     },
     "execution_count": 7,
     "metadata": {},
     "output_type": "execute_result"
    }
   ],
   "source": [
    "df.groupby([\"Pclass\", \"Survived\"])[\"Fare\"].sum().round(2)"
   ]
  },
  {
   "cell_type": "markdown",
   "id": "c7ab7e2b",
   "metadata": {},
   "source": [
    "## 6. How much money was collected from each class in each port?"
   ]
  },
  {
   "cell_type": "code",
   "execution_count": 8,
   "id": "dbb71fe5",
   "metadata": {},
   "outputs": [
    {
     "data": {
      "text/plain": [
       "Embarked  Pclass\n",
       "C         1         8901.08\n",
       "          2          431.09\n",
       "          3          740.13\n",
       "Q         1          180.00\n",
       "          2           37.05\n",
       "          3          805.20\n",
       "S         1         8936.34\n",
       "          2         3333.70\n",
       "          3         5169.36\n",
       "Name: Fare, dtype: float64"
      ]
     },
     "execution_count": 8,
     "metadata": {},
     "output_type": "execute_result"
    }
   ],
   "source": [
    "df.groupby([\"Embarked\", \"Pclass\"])[\"Fare\"].sum().round(2)"
   ]
  }
 ],
 "metadata": {
  "kernelspec": {
   "display_name": "Python 3",
   "language": "python",
   "name": "python3"
  },
  "language_info": {
   "codemirror_mode": {
    "name": "ipython",
    "version": 3
   },
   "file_extension": ".py",
   "mimetype": "text/x-python",
   "name": "python",
   "nbconvert_exporter": "python",
   "pygments_lexer": "ipython3",
   "version": "3.12.6"
  }
 },
 "nbformat": 4,
 "nbformat_minor": 5
}
