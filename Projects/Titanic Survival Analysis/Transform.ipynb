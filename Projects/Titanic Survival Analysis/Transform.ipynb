{
 "cells": [
  {
   "cell_type": "markdown",
   "id": "1c0f128f",
   "metadata": {},
   "source": [
    "# Stage #3: Clean and Transform\n",
    "\n",
    "---"
   ]
  },
  {
   "cell_type": "markdown",
   "id": "2fb81d51",
   "metadata": {},
   "source": [
    "## Preparation"
   ]
  },
  {
   "cell_type": "code",
   "execution_count": 25,
   "id": "72190417",
   "metadata": {},
   "outputs": [],
   "source": [
    "import pandas as pd"
   ]
  },
  {
   "cell_type": "code",
   "execution_count": 26,
   "id": "773a1c7b",
   "metadata": {},
   "outputs": [],
   "source": [
    "pd.set_option(\"display.max_columns\", None)\n",
    "df = pd.read_csv(\"C:/Users/malvi/Desktop/data-hw-Malvika-R5/Titanic/dataset_201_guide.csv\")"
   ]
  },
  {
   "cell_type": "markdown",
   "id": "ace1ba25",
   "metadata": {},
   "source": [
    "## 1. Fill empty values in the *Embarked* column with the most common port\n",
    "- **Follow-up Question:** How many Embarked values were missing? "
   ]
  },
  {
   "cell_type": "code",
   "execution_count": 27,
   "id": "0b5c8bfb",
   "metadata": {},
   "outputs": [
    {
     "data": {
      "text/plain": [
       "np.int64(2)"
      ]
     },
     "execution_count": 27,
     "metadata": {},
     "output_type": "execute_result"
    }
   ],
   "source": [
    "df[\"Embarked\"].isna().sum()                 # Mising value count"
   ]
  },
  {
   "cell_type": "code",
   "execution_count": 28,
   "id": "855e1346",
   "metadata": {},
   "outputs": [
    {
     "data": {
      "text/plain": [
       "Embarked\n",
       "S      644\n",
       "C      168\n",
       "Q       77\n",
       "NaN      2\n",
       "Name: count, dtype: int64"
      ]
     },
     "execution_count": 28,
     "metadata": {},
     "output_type": "execute_result"
    }
   ],
   "source": [
    "df['Embarked'].value_counts(dropna=False)   # Including missing values"
   ]
  },
  {
   "cell_type": "code",
   "execution_count": 29,
   "id": "e48a9d8a",
   "metadata": {},
   "outputs": [
    {
     "name": "stderr",
     "output_type": "stream",
     "text": [
      "C:\\Users\\malvi\\AppData\\Local\\Temp\\ipykernel_4192\\2589430260.py:1: FutureWarning: A value is trying to be set on a copy of a DataFrame or Series through chained assignment using an inplace method.\n",
      "The behavior will change in pandas 3.0. This inplace method will never work because the intermediate object on which we are setting values always behaves as a copy.\n",
      "\n",
      "For example, when doing 'df[col].method(value, inplace=True)', try using 'df.method({col: value}, inplace=True)' or df[col] = df[col].method(value) instead, to perform the operation inplace on the original object.\n",
      "\n",
      "\n",
      "  df[\"Embarked\"].fillna(value=\"S\", inplace=True)\n"
     ]
    },
    {
     "data": {
      "text/plain": [
       "Embarked\n",
       "S    646\n",
       "C    168\n",
       "Q     77\n",
       "Name: count, dtype: int64"
      ]
     },
     "execution_count": 29,
     "metadata": {},
     "output_type": "execute_result"
    }
   ],
   "source": [
    "df[\"Embarked\"].fillna(value=\"S\", inplace=True)\n",
    "df[\"Embarked\"].value_counts()\n",
    "#df[\"Embarked\"].isna().sum()"
   ]
  },
  {
   "cell_type": "markdown",
   "id": "93286c69",
   "metadata": {},
   "source": [
    "---"
   ]
  },
  {
   "cell_type": "markdown",
   "id": "4f7bf2b8",
   "metadata": {},
   "source": [
    "## 2. Create a column to display rows with any missing values\n",
    "- **Follow-up Question:** How many rows are missing at list one value?"
   ]
  },
  {
   "cell_type": "code",
   "execution_count": 30,
   "id": "bc5576d1",
   "metadata": {},
   "outputs": [
    {
     "data": {
      "text/plain": [
       "has_missing\n",
       "True     706\n",
       "False    185\n",
       "Name: count, dtype: int64"
      ]
     },
     "execution_count": 30,
     "metadata": {},
     "output_type": "execute_result"
    }
   ],
   "source": [
    "df[\"has_missing\"] = df.isna().any(axis=1)\n",
    "df[\"has_missing\"].value_counts()"
   ]
  },
  {
   "cell_type": "markdown",
   "id": "86e1bcbf",
   "metadata": {},
   "source": [
    "## 3. Create a column to display who traveled alone vs with family.\n",
    "- **Follow-up Question:** How many people traveled alone?"
   ]
  },
  {
   "cell_type": "code",
   "execution_count": 31,
   "id": "5df8bc64",
   "metadata": {},
   "outputs": [
    {
     "data": {
      "text/html": [
       "<div>\n",
       "<style scoped>\n",
       "    .dataframe tbody tr th:only-of-type {\n",
       "        vertical-align: middle;\n",
       "    }\n",
       "\n",
       "    .dataframe tbody tr th {\n",
       "        vertical-align: top;\n",
       "    }\n",
       "\n",
       "    .dataframe thead th {\n",
       "        text-align: right;\n",
       "    }\n",
       "</style>\n",
       "<table border=\"1\" class=\"dataframe\">\n",
       "  <thead>\n",
       "    <tr style=\"text-align: right;\">\n",
       "      <th></th>\n",
       "      <th>PassengerId</th>\n",
       "      <th>Survived</th>\n",
       "      <th>Pclass</th>\n",
       "      <th>Name</th>\n",
       "      <th>Sex</th>\n",
       "      <th>Age</th>\n",
       "      <th>SibSp</th>\n",
       "      <th>Parch</th>\n",
       "      <th>Ticket</th>\n",
       "      <th>Fare</th>\n",
       "      <th>Cabin</th>\n",
       "      <th>Embarked</th>\n",
       "      <th>has_missing</th>\n",
       "      <th>family_size</th>\n",
       "      <th>Alone</th>\n",
       "    </tr>\n",
       "  </thead>\n",
       "  <tbody>\n",
       "    <tr>\n",
       "      <th>0</th>\n",
       "      <td>1</td>\n",
       "      <td>0</td>\n",
       "      <td>3</td>\n",
       "      <td>Braund, Mr. Owen Harris</td>\n",
       "      <td>male</td>\n",
       "      <td>22.0</td>\n",
       "      <td>1</td>\n",
       "      <td>0</td>\n",
       "      <td>A/5 21171</td>\n",
       "      <td>7.2500</td>\n",
       "      <td>NaN</td>\n",
       "      <td>S</td>\n",
       "      <td>True</td>\n",
       "      <td>1</td>\n",
       "      <td>False</td>\n",
       "    </tr>\n",
       "    <tr>\n",
       "      <th>1</th>\n",
       "      <td>2</td>\n",
       "      <td>1</td>\n",
       "      <td>1</td>\n",
       "      <td>Cumings, Mrs. John Bradley (Florence Briggs Th...</td>\n",
       "      <td>female</td>\n",
       "      <td>38.0</td>\n",
       "      <td>1</td>\n",
       "      <td>0</td>\n",
       "      <td>PC 17599</td>\n",
       "      <td>71.2833</td>\n",
       "      <td>C85</td>\n",
       "      <td>C</td>\n",
       "      <td>False</td>\n",
       "      <td>1</td>\n",
       "      <td>False</td>\n",
       "    </tr>\n",
       "    <tr>\n",
       "      <th>2</th>\n",
       "      <td>3</td>\n",
       "      <td>1</td>\n",
       "      <td>3</td>\n",
       "      <td>Heikkinen, Miss. Laina</td>\n",
       "      <td>female</td>\n",
       "      <td>26.0</td>\n",
       "      <td>0</td>\n",
       "      <td>0</td>\n",
       "      <td>STON/O2. 3101282</td>\n",
       "      <td>7.9250</td>\n",
       "      <td>NaN</td>\n",
       "      <td>S</td>\n",
       "      <td>True</td>\n",
       "      <td>0</td>\n",
       "      <td>True</td>\n",
       "    </tr>\n",
       "    <tr>\n",
       "      <th>3</th>\n",
       "      <td>4</td>\n",
       "      <td>1</td>\n",
       "      <td>1</td>\n",
       "      <td>Futrelle, Mrs. Jacques Heath (Lily May Peel)</td>\n",
       "      <td>female</td>\n",
       "      <td>35.0</td>\n",
       "      <td>1</td>\n",
       "      <td>0</td>\n",
       "      <td>113803</td>\n",
       "      <td>53.1000</td>\n",
       "      <td>C123</td>\n",
       "      <td>S</td>\n",
       "      <td>False</td>\n",
       "      <td>1</td>\n",
       "      <td>False</td>\n",
       "    </tr>\n",
       "    <tr>\n",
       "      <th>4</th>\n",
       "      <td>5</td>\n",
       "      <td>0</td>\n",
       "      <td>3</td>\n",
       "      <td>Allen, Mr. William Henry</td>\n",
       "      <td>male</td>\n",
       "      <td>35.0</td>\n",
       "      <td>0</td>\n",
       "      <td>0</td>\n",
       "      <td>373450</td>\n",
       "      <td>8.0500</td>\n",
       "      <td>NaN</td>\n",
       "      <td>S</td>\n",
       "      <td>True</td>\n",
       "      <td>0</td>\n",
       "      <td>True</td>\n",
       "    </tr>\n",
       "  </tbody>\n",
       "</table>\n",
       "</div>"
      ],
      "text/plain": [
       "   PassengerId  Survived  Pclass  \\\n",
       "0            1         0       3   \n",
       "1            2         1       1   \n",
       "2            3         1       3   \n",
       "3            4         1       1   \n",
       "4            5         0       3   \n",
       "\n",
       "                                                Name     Sex   Age  SibSp  \\\n",
       "0                            Braund, Mr. Owen Harris    male  22.0      1   \n",
       "1  Cumings, Mrs. John Bradley (Florence Briggs Th...  female  38.0      1   \n",
       "2                             Heikkinen, Miss. Laina  female  26.0      0   \n",
       "3       Futrelle, Mrs. Jacques Heath (Lily May Peel)  female  35.0      1   \n",
       "4                           Allen, Mr. William Henry    male  35.0      0   \n",
       "\n",
       "   Parch            Ticket     Fare Cabin Embarked  has_missing  family_size  \\\n",
       "0      0         A/5 21171   7.2500   NaN        S         True            1   \n",
       "1      0          PC 17599  71.2833   C85        C        False            1   \n",
       "2      0  STON/O2. 3101282   7.9250   NaN        S         True            0   \n",
       "3      0            113803  53.1000  C123        S        False            1   \n",
       "4      0            373450   8.0500   NaN        S         True            0   \n",
       "\n",
       "   Alone  \n",
       "0  False  \n",
       "1  False  \n",
       "2   True  \n",
       "3  False  \n",
       "4   True  "
      ]
     },
     "execution_count": 31,
     "metadata": {},
     "output_type": "execute_result"
    }
   ],
   "source": [
    "df[\"family_size\"] = df[\"SibSp\"] + df[\"Parch\"]\n",
    "df[\"Alone\"] = df[\"family_size\"] == 0\n",
    "df.head()"
   ]
  },
  {
   "cell_type": "markdown",
   "id": "f5e312cf",
   "metadata": {},
   "source": [
    "## 4. Create a column that displays the Surname of each passenger.\n",
    "- **Follow-up Question:** What are the most common surnames?"
   ]
  },
  {
   "cell_type": "code",
   "execution_count": 32,
   "id": "b7e47b27",
   "metadata": {},
   "outputs": [
    {
     "data": {
      "text/html": [
       "<div>\n",
       "<style scoped>\n",
       "    .dataframe tbody tr th:only-of-type {\n",
       "        vertical-align: middle;\n",
       "    }\n",
       "\n",
       "    .dataframe tbody tr th {\n",
       "        vertical-align: top;\n",
       "    }\n",
       "\n",
       "    .dataframe thead th {\n",
       "        text-align: right;\n",
       "    }\n",
       "</style>\n",
       "<table border=\"1\" class=\"dataframe\">\n",
       "  <thead>\n",
       "    <tr style=\"text-align: right;\">\n",
       "      <th></th>\n",
       "      <th>PassengerId</th>\n",
       "      <th>Survived</th>\n",
       "      <th>Pclass</th>\n",
       "      <th>Name</th>\n",
       "      <th>Sex</th>\n",
       "      <th>Age</th>\n",
       "      <th>SibSp</th>\n",
       "      <th>Parch</th>\n",
       "      <th>Ticket</th>\n",
       "      <th>Fare</th>\n",
       "      <th>Cabin</th>\n",
       "      <th>Embarked</th>\n",
       "      <th>has_missing</th>\n",
       "      <th>family_size</th>\n",
       "      <th>Alone</th>\n",
       "      <th>Surname</th>\n",
       "    </tr>\n",
       "  </thead>\n",
       "  <tbody>\n",
       "    <tr>\n",
       "      <th>0</th>\n",
       "      <td>1</td>\n",
       "      <td>0</td>\n",
       "      <td>3</td>\n",
       "      <td>Braund, Mr. Owen Harris</td>\n",
       "      <td>male</td>\n",
       "      <td>22.0</td>\n",
       "      <td>1</td>\n",
       "      <td>0</td>\n",
       "      <td>A/5 21171</td>\n",
       "      <td>7.2500</td>\n",
       "      <td>NaN</td>\n",
       "      <td>S</td>\n",
       "      <td>True</td>\n",
       "      <td>1</td>\n",
       "      <td>False</td>\n",
       "      <td>Braund</td>\n",
       "    </tr>\n",
       "    <tr>\n",
       "      <th>1</th>\n",
       "      <td>2</td>\n",
       "      <td>1</td>\n",
       "      <td>1</td>\n",
       "      <td>Cumings, Mrs. John Bradley (Florence Briggs Th...</td>\n",
       "      <td>female</td>\n",
       "      <td>38.0</td>\n",
       "      <td>1</td>\n",
       "      <td>0</td>\n",
       "      <td>PC 17599</td>\n",
       "      <td>71.2833</td>\n",
       "      <td>C85</td>\n",
       "      <td>C</td>\n",
       "      <td>False</td>\n",
       "      <td>1</td>\n",
       "      <td>False</td>\n",
       "      <td>Cumings</td>\n",
       "    </tr>\n",
       "  </tbody>\n",
       "</table>\n",
       "</div>"
      ],
      "text/plain": [
       "   PassengerId  Survived  Pclass  \\\n",
       "0            1         0       3   \n",
       "1            2         1       1   \n",
       "\n",
       "                                                Name     Sex   Age  SibSp  \\\n",
       "0                            Braund, Mr. Owen Harris    male  22.0      1   \n",
       "1  Cumings, Mrs. John Bradley (Florence Briggs Th...  female  38.0      1   \n",
       "\n",
       "   Parch     Ticket     Fare Cabin Embarked  has_missing  family_size  Alone  \\\n",
       "0      0  A/5 21171   7.2500   NaN        S         True            1  False   \n",
       "1      0   PC 17599  71.2833   C85        C        False            1  False   \n",
       "\n",
       "   Surname  \n",
       "0   Braund  \n",
       "1  Cumings  "
      ]
     },
     "execution_count": 32,
     "metadata": {},
     "output_type": "execute_result"
    }
   ],
   "source": [
    "df['Surname'] = df['Name'].str.split(',').str[0]\n",
    "df.head(2)"
   ]
  },
  {
   "cell_type": "code",
   "execution_count": 33,
   "id": "d0c87c9f",
   "metadata": {},
   "outputs": [
    {
     "data": {
      "text/plain": [
       "Surname\n",
       "Andersson          9\n",
       "Sage               7\n",
       "Skoog              6\n",
       "Panula             6\n",
       "Carter             6\n",
       "                  ..\n",
       "Najib              1\n",
       "Vander Cruyssen    1\n",
       "Balkic             1\n",
       "van Melkebeke      1\n",
       "Bystrom            1\n",
       "Name: count, Length: 667, dtype: int64"
      ]
     },
     "execution_count": 33,
     "metadata": {},
     "output_type": "execute_result"
    }
   ],
   "source": [
    "df[\"Surname\"].value_counts()"
   ]
  },
  {
   "cell_type": "markdown",
   "id": "3034e92d",
   "metadata": {},
   "source": [
    "## 5. Create a column that displays the Firstname of each passenger.\n",
    "- **Follow-up Question:** What are the most common Firstnames?"
   ]
  },
  {
   "cell_type": "code",
   "execution_count": 34,
   "id": "3408ffba",
   "metadata": {},
   "outputs": [
    {
     "data": {
      "text/plain": [
       "Firstname\n",
       "William      48\n",
       "John         31\n",
       "Thomas       19\n",
       "George       16\n",
       "Charles      16\n",
       "             ..\n",
       "Nourelain     1\n",
       "Sigvard       1\n",
       "Marin         1\n",
       "Douglas       1\n",
       "Jeso          1\n",
       "Name: count, Length: 441, dtype: int64"
      ]
     },
     "execution_count": 34,
     "metadata": {},
     "output_type": "execute_result"
    }
   ],
   "source": [
    "df['Firstname'] = (df['Name'].str.split('.').str[1]).str.split(\" \").str[1]\n",
    "df.Firstname.value_counts()"
   ]
  },
  {
   "cell_type": "markdown",
   "id": "6986ee93",
   "metadata": {},
   "source": [
    "## 6. Create a column to display the title of each passenger\n",
    "- **Follow-up Question:** What is the usage count of each title?"
   ]
  },
  {
   "cell_type": "code",
   "execution_count": 35,
   "id": "1e19d2b7",
   "metadata": {},
   "outputs": [
    {
     "data": {
      "text/plain": [
       "Title\n",
       "Mr              517\n",
       "Miss            182\n",
       "Mrs             125\n",
       "Master           40\n",
       "Dr                7\n",
       "Rev               6\n",
       "Col               2\n",
       "Mlle              2\n",
       "Major             2\n",
       "Ms                1\n",
       "Mme               1\n",
       "Don               1\n",
       "Lady              1\n",
       "Sir               1\n",
       "Capt              1\n",
       "the Countess      1\n",
       "Jonkheer          1\n",
       "Name: count, dtype: int64"
      ]
     },
     "execution_count": 35,
     "metadata": {},
     "output_type": "execute_result"
    }
   ],
   "source": [
    "df[\"Title\"] = (df[\"Name\"].str.split(\".\").str[0]).str.split(\",\").str[1]\n",
    "df.head()\n",
    "df[\"Title\"].value_counts()"
   ]
  },
  {
   "cell_type": "markdown",
   "id": "6ecff33a",
   "metadata": {},
   "source": [
    "## 7. Create an column to display the age group of each passenger.\n",
    "- **Age Groups:**\n",
    "  - Child: Less than 12\n",
    "  - Teen: 12–17\n",
    "  - Adult: 18–64\n",
    "  - Senior: Greater than 64\n",
    "\n",
    "- **Follow-up Question:** How many passengers belong to each age group?"
   ]
  },
  {
   "cell_type": "code",
   "execution_count": 36,
   "id": "167915d2",
   "metadata": {},
   "outputs": [
    {
     "data": {
      "text/plain": [
       "Age Group\n",
       "Adult     590\n",
       "Child      68\n",
       "Teen       45\n",
       "Senior     11\n",
       "Name: count, dtype: int64"
      ]
     },
     "execution_count": 36,
     "metadata": {},
     "output_type": "execute_result"
    }
   ],
   "source": [
    "bins = [0, 12, 18, 65, float(\"inf\")]\n",
    "labels = [\"Child\", \"Teen\", \"Adult\", \"Senior\"]\n",
    "\n",
    "df[\"Age Group\"] = pd.cut(df[\"Age\"], bins=bins, labels=labels, right=False)\n",
    "\n",
    "df[\"Age Group\"].value_counts()"
   ]
  },
  {
   "cell_type": "markdown",
   "id": "b085959c",
   "metadata": {},
   "source": [
    "## 8. Create an column to display the fare category\n",
    "- **Fare Category:** \n",
    "  - Low: Less than 10\n",
    "  - Medium: 10–50\n",
    "  - High: Greater than 50\n",
    "\n",
    "- **Follow-up Question:** How many fares belong to each fare category?"
   ]
  },
  {
   "cell_type": "code",
   "execution_count": 37,
   "id": "da6e647b",
   "metadata": {},
   "outputs": [
    {
     "data": {
      "text/plain": [
       "Fare Category\n",
       "Medium    394\n",
       "Low       336\n",
       "High      161\n",
       "Name: count, dtype: int64"
      ]
     },
     "execution_count": 37,
     "metadata": {},
     "output_type": "execute_result"
    }
   ],
   "source": [
    "bins = [0, 10, 50, float(\"inf\")]\n",
    "labels = [\"Low\", \"Medium\", \"High\"]\n",
    "\n",
    "df[\"Fare Category\"] = pd.cut(df[\"Fare\"], bins=bins, labels=labels, right=False)\n",
    "\n",
    "df[\"Fare Category\"].value_counts()"
   ]
  },
  {
   "cell_type": "markdown",
   "id": "5e45f34f",
   "metadata": {},
   "source": [
    "## 9. Create a column to display the family size category\n",
    "- Categories:\n",
    "  - Small: 1–2\n",
    "  - Medium: 3–4\n",
    "  - Large: 5+\n",
    "\n",
    "- **Follow-up Question:** How many passengers belong to each category? "
   ]
  },
  {
   "cell_type": "code",
   "execution_count": 38,
   "id": "c2752018",
   "metadata": {},
   "outputs": [
    {
     "data": {
      "text/plain": [
       "Family Size Category\n",
       "Small     263\n",
       "Large      47\n",
       "Medium     44\n",
       "Name: count, dtype: int64"
      ]
     },
     "execution_count": 38,
     "metadata": {},
     "output_type": "execute_result"
    }
   ],
   "source": [
    "bins = [1, 3, 5, float(\"inf\")]\n",
    "labels = [\"Small\", \"Medium\", \"Large\"]\n",
    "\n",
    "df[\"Family Size Category\"] = pd.cut(df[\"family_size\"], bins=bins, labels=labels, right=False)\n",
    "\n",
    "df[\"Family Size Category\"].value_counts()"
   ]
  },
  {
   "cell_type": "markdown",
   "id": "766fe94a",
   "metadata": {},
   "source": [
    "## 10. Create a column to display the port name\n",
    "\n",
    "\"C\": \"Cherbourg\",\n",
    "\"Q\": \"Queenstown\",\n",
    "\"S\": \"Southampton\""
   ]
  },
  {
   "cell_type": "code",
   "execution_count": 39,
   "id": "cccf18a8",
   "metadata": {},
   "outputs": [
    {
     "data": {
      "text/html": [
       "<div>\n",
       "<style scoped>\n",
       "    .dataframe tbody tr th:only-of-type {\n",
       "        vertical-align: middle;\n",
       "    }\n",
       "\n",
       "    .dataframe tbody tr th {\n",
       "        vertical-align: top;\n",
       "    }\n",
       "\n",
       "    .dataframe thead th {\n",
       "        text-align: right;\n",
       "    }\n",
       "</style>\n",
       "<table border=\"1\" class=\"dataframe\">\n",
       "  <thead>\n",
       "    <tr style=\"text-align: right;\">\n",
       "      <th></th>\n",
       "      <th>PassengerId</th>\n",
       "      <th>Survived</th>\n",
       "      <th>Pclass</th>\n",
       "      <th>Name</th>\n",
       "      <th>Sex</th>\n",
       "      <th>Age</th>\n",
       "      <th>SibSp</th>\n",
       "      <th>Parch</th>\n",
       "      <th>Ticket</th>\n",
       "      <th>Fare</th>\n",
       "      <th>Cabin</th>\n",
       "      <th>Embarked</th>\n",
       "      <th>has_missing</th>\n",
       "      <th>family_size</th>\n",
       "      <th>Alone</th>\n",
       "      <th>Surname</th>\n",
       "      <th>Firstname</th>\n",
       "      <th>Title</th>\n",
       "      <th>Age Group</th>\n",
       "      <th>Fare Category</th>\n",
       "      <th>Family Size Category</th>\n",
       "      <th>Port Name</th>\n",
       "    </tr>\n",
       "  </thead>\n",
       "  <tbody>\n",
       "    <tr>\n",
       "      <th>0</th>\n",
       "      <td>1</td>\n",
       "      <td>0</td>\n",
       "      <td>3</td>\n",
       "      <td>Braund, Mr. Owen Harris</td>\n",
       "      <td>male</td>\n",
       "      <td>22.0</td>\n",
       "      <td>1</td>\n",
       "      <td>0</td>\n",
       "      <td>A/5 21171</td>\n",
       "      <td>7.2500</td>\n",
       "      <td>NaN</td>\n",
       "      <td>S</td>\n",
       "      <td>True</td>\n",
       "      <td>1</td>\n",
       "      <td>False</td>\n",
       "      <td>Braund</td>\n",
       "      <td>Owen</td>\n",
       "      <td>Mr</td>\n",
       "      <td>Adult</td>\n",
       "      <td>Low</td>\n",
       "      <td>Small</td>\n",
       "      <td>Southampton</td>\n",
       "    </tr>\n",
       "    <tr>\n",
       "      <th>1</th>\n",
       "      <td>2</td>\n",
       "      <td>1</td>\n",
       "      <td>1</td>\n",
       "      <td>Cumings, Mrs. John Bradley (Florence Briggs Th...</td>\n",
       "      <td>female</td>\n",
       "      <td>38.0</td>\n",
       "      <td>1</td>\n",
       "      <td>0</td>\n",
       "      <td>PC 17599</td>\n",
       "      <td>71.2833</td>\n",
       "      <td>C85</td>\n",
       "      <td>C</td>\n",
       "      <td>False</td>\n",
       "      <td>1</td>\n",
       "      <td>False</td>\n",
       "      <td>Cumings</td>\n",
       "      <td>John</td>\n",
       "      <td>Mrs</td>\n",
       "      <td>Adult</td>\n",
       "      <td>High</td>\n",
       "      <td>Small</td>\n",
       "      <td>Cherbourg</td>\n",
       "    </tr>\n",
       "    <tr>\n",
       "      <th>2</th>\n",
       "      <td>3</td>\n",
       "      <td>1</td>\n",
       "      <td>3</td>\n",
       "      <td>Heikkinen, Miss. Laina</td>\n",
       "      <td>female</td>\n",
       "      <td>26.0</td>\n",
       "      <td>0</td>\n",
       "      <td>0</td>\n",
       "      <td>STON/O2. 3101282</td>\n",
       "      <td>7.9250</td>\n",
       "      <td>NaN</td>\n",
       "      <td>S</td>\n",
       "      <td>True</td>\n",
       "      <td>0</td>\n",
       "      <td>True</td>\n",
       "      <td>Heikkinen</td>\n",
       "      <td>Laina</td>\n",
       "      <td>Miss</td>\n",
       "      <td>Adult</td>\n",
       "      <td>Low</td>\n",
       "      <td>NaN</td>\n",
       "      <td>Southampton</td>\n",
       "    </tr>\n",
       "    <tr>\n",
       "      <th>3</th>\n",
       "      <td>4</td>\n",
       "      <td>1</td>\n",
       "      <td>1</td>\n",
       "      <td>Futrelle, Mrs. Jacques Heath (Lily May Peel)</td>\n",
       "      <td>female</td>\n",
       "      <td>35.0</td>\n",
       "      <td>1</td>\n",
       "      <td>0</td>\n",
       "      <td>113803</td>\n",
       "      <td>53.1000</td>\n",
       "      <td>C123</td>\n",
       "      <td>S</td>\n",
       "      <td>False</td>\n",
       "      <td>1</td>\n",
       "      <td>False</td>\n",
       "      <td>Futrelle</td>\n",
       "      <td>Jacques</td>\n",
       "      <td>Mrs</td>\n",
       "      <td>Adult</td>\n",
       "      <td>High</td>\n",
       "      <td>Small</td>\n",
       "      <td>Southampton</td>\n",
       "    </tr>\n",
       "    <tr>\n",
       "      <th>4</th>\n",
       "      <td>5</td>\n",
       "      <td>0</td>\n",
       "      <td>3</td>\n",
       "      <td>Allen, Mr. William Henry</td>\n",
       "      <td>male</td>\n",
       "      <td>35.0</td>\n",
       "      <td>0</td>\n",
       "      <td>0</td>\n",
       "      <td>373450</td>\n",
       "      <td>8.0500</td>\n",
       "      <td>NaN</td>\n",
       "      <td>S</td>\n",
       "      <td>True</td>\n",
       "      <td>0</td>\n",
       "      <td>True</td>\n",
       "      <td>Allen</td>\n",
       "      <td>William</td>\n",
       "      <td>Mr</td>\n",
       "      <td>Adult</td>\n",
       "      <td>Low</td>\n",
       "      <td>NaN</td>\n",
       "      <td>Southampton</td>\n",
       "    </tr>\n",
       "  </tbody>\n",
       "</table>\n",
       "</div>"
      ],
      "text/plain": [
       "   PassengerId  Survived  Pclass  \\\n",
       "0            1         0       3   \n",
       "1            2         1       1   \n",
       "2            3         1       3   \n",
       "3            4         1       1   \n",
       "4            5         0       3   \n",
       "\n",
       "                                                Name     Sex   Age  SibSp  \\\n",
       "0                            Braund, Mr. Owen Harris    male  22.0      1   \n",
       "1  Cumings, Mrs. John Bradley (Florence Briggs Th...  female  38.0      1   \n",
       "2                             Heikkinen, Miss. Laina  female  26.0      0   \n",
       "3       Futrelle, Mrs. Jacques Heath (Lily May Peel)  female  35.0      1   \n",
       "4                           Allen, Mr. William Henry    male  35.0      0   \n",
       "\n",
       "   Parch            Ticket     Fare Cabin Embarked  has_missing  family_size  \\\n",
       "0      0         A/5 21171   7.2500   NaN        S         True            1   \n",
       "1      0          PC 17599  71.2833   C85        C        False            1   \n",
       "2      0  STON/O2. 3101282   7.9250   NaN        S         True            0   \n",
       "3      0            113803  53.1000  C123        S        False            1   \n",
       "4      0            373450   8.0500   NaN        S         True            0   \n",
       "\n",
       "   Alone    Surname Firstname  Title Age Group Fare Category  \\\n",
       "0  False     Braund      Owen     Mr     Adult           Low   \n",
       "1  False    Cumings      John    Mrs     Adult          High   \n",
       "2   True  Heikkinen     Laina   Miss     Adult           Low   \n",
       "3  False   Futrelle   Jacques    Mrs     Adult          High   \n",
       "4   True      Allen   William     Mr     Adult           Low   \n",
       "\n",
       "  Family Size Category    Port Name  \n",
       "0                Small  Southampton  \n",
       "1                Small    Cherbourg  \n",
       "2                  NaN  Southampton  \n",
       "3                Small  Southampton  \n",
       "4                  NaN  Southampton  "
      ]
     },
     "execution_count": 39,
     "metadata": {},
     "output_type": "execute_result"
    }
   ],
   "source": [
    "ports = {\n",
    "    \"C\": \"Cherbourg\",\n",
    "    \"Q\": \"Queenstown\",\n",
    "    \"S\": \"Southampton\"\n",
    "    }\n",
    "\n",
    "df[\"Port Name\"] = df[\"Embarked\"].map(ports)\n",
    "df.head()"
   ]
  },
  {
   "cell_type": "markdown",
   "id": "12bde04c",
   "metadata": {},
   "source": [
    "---"
   ]
  },
  {
   "cell_type": "markdown",
   "id": "7392a0f6",
   "metadata": {},
   "source": [
    "## 11. Rename the columns 'SibSp' and 'Parch' to more meaningful names columns\n",
    "- **Follow-up Question:** How does the dataframe looks after the changes?"
   ]
  },
  {
   "cell_type": "code",
   "execution_count": 40,
   "id": "08ea9fa7",
   "metadata": {},
   "outputs": [
    {
     "data": {
      "text/plain": [
       "Index(['PassengerId', 'Survived', 'Pclass', 'Name', 'Sex', 'Age',\n",
       "       'SiblingsSpouses', 'ParentsChildren', 'Ticket', 'Fare', 'Cabin',\n",
       "       'Embarked', 'has_missing', 'family_size', 'Alone', 'Surname',\n",
       "       'Firstname', 'Title', 'Age Group', 'Fare Category',\n",
       "       'Family Size Category', 'Port Name'],\n",
       "      dtype='object')"
      ]
     },
     "execution_count": 40,
     "metadata": {},
     "output_type": "execute_result"
    }
   ],
   "source": [
    "df.rename(\n",
    "    columns={\n",
    "        \"SibSp\": \"SiblingsSpouses\",\n",
    "        \"Parch\": \"ParentsChildren\",\n",
    "    },\n",
    "    inplace=True,\n",
    ")\n",
    "df.columns"
   ]
  },
  {
   "cell_type": "markdown",
   "id": "2a6a639b",
   "metadata": {},
   "source": [
    "## 12. Remove all rows where passengers have the same surname\n",
    "- OBS:\n",
    "  - We previously created the column 'Surname'\n",
    "\n",
    "- **Follow-up Questions:** \n",
    "  - How many rows were dropped?\n",
    "  - What are the consequences of dropping rows?"
   ]
  },
  {
   "cell_type": "code",
   "execution_count": 41,
   "id": "bc462af4",
   "metadata": {},
   "outputs": [
    {
     "data": {
      "text/plain": [
       "224"
      ]
     },
     "execution_count": 41,
     "metadata": {},
     "output_type": "execute_result"
    }
   ],
   "source": [
    "# Get the original row count\n",
    "original_rows = df.shape[0]\n",
    "\n",
    "# Remove rows where passengers have the same surname, keeping the first one\n",
    "surname_to_remove = df.drop_duplicates(subset=[\"Surname\"], keep=\"first\")\n",
    "\n",
    "# Get the number of rows after removing duplicates\n",
    "new_rows = surname_to_remove.shape[0]\n",
    "\n",
    "# Calculate the number of dropped rows\n",
    "dropped_rows = original_rows - new_rows\n",
    "\n",
    "dropped_rows"
   ]
  },
  {
   "cell_type": "code",
   "execution_count": 42,
   "id": "b28eaee0",
   "metadata": {},
   "outputs": [
    {
     "data": {
      "text/plain": [
       "(891, 22)"
      ]
     },
     "execution_count": 42,
     "metadata": {},
     "output_type": "execute_result"
    }
   ],
   "source": [
    "df.shape"
   ]
  },
  {
   "cell_type": "markdown",
   "id": "91097c84",
   "metadata": {},
   "source": [
    "## 13. Remove the `Ticket` and `Cabin` columns\n",
    "- **Follow-up Question:** How does the dataframe looks after the changes?"
   ]
  },
  {
   "cell_type": "code",
   "execution_count": 43,
   "id": "05613324",
   "metadata": {},
   "outputs": [
    {
     "data": {
      "text/plain": [
       "Index(['PassengerId', 'Survived', 'Pclass', 'Name', 'Sex', 'Age',\n",
       "       'SiblingsSpouses', 'ParentsChildren', 'Ticket', 'Fare', 'Cabin',\n",
       "       'Embarked', 'has_missing', 'family_size', 'Alone', 'Surname',\n",
       "       'Firstname', 'Title', 'Age Group', 'Fare Category',\n",
       "       'Family Size Category', 'Port Name'],\n",
       "      dtype='object')"
      ]
     },
     "execution_count": 43,
     "metadata": {},
     "output_type": "execute_result"
    }
   ],
   "source": [
    "columns_to_remove = [\"Ticket\", \"Cabin\"]\n",
    "\n",
    "# Check the that columns we want to drop actually exist\n",
    "to_drop = []\n",
    "for column_name in columns_to_remove:\n",
    "    if column_name in df.columns:\n",
    "        df.drop(columns=to_drop, inplace=True)\n",
    "\n",
    "df.columns"
   ]
  }
 ],
 "metadata": {
  "kernelspec": {
   "display_name": "Python 3",
   "language": "python",
   "name": "python3"
  },
  "language_info": {
   "codemirror_mode": {
    "name": "ipython",
    "version": 3
   },
   "file_extension": ".py",
   "mimetype": "text/x-python",
   "name": "python",
   "nbconvert_exporter": "python",
   "pygments_lexer": "ipython3",
   "version": "3.12.6"
  }
 },
 "nbformat": 4,
 "nbformat_minor": 5
}
