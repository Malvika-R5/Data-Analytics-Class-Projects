{
 "cells": [
  {
   "cell_type": "markdown",
   "id": "26884d50",
   "metadata": {},
   "source": [
    "# Stage #4: Combine and Summarize\n",
    "\n",
    "---"
   ]
  },
  {
   "cell_type": "markdown",
   "id": "2fb81d51",
   "metadata": {},
   "source": [
    "## Preparation"
   ]
  },
  {
   "cell_type": "code",
   "execution_count": 2,
   "id": "72190417",
   "metadata": {},
   "outputs": [],
   "source": [
    "import pandas as pd"
   ]
  },
  {
   "cell_type": "code",
   "execution_count": 3,
   "id": "773a1c7b",
   "metadata": {},
   "outputs": [],
   "source": [
    "pd.set_option(\"display.max_columns\", None)\n",
    "df = pd.read_csv(\"C:/Users/malvi/Desktop/data-hw-Malvika-R5/Titanic/dataset_201_guide.csv\")"
   ]
  },
  {
   "cell_type": "markdown",
   "id": "ac24af8a",
   "metadata": {},
   "source": [
    "## 1. What was the average age of passengers in the Titanic?"
   ]
  },
  {
   "cell_type": "code",
   "execution_count": 10,
   "id": "973aa593",
   "metadata": {},
   "outputs": [
    {
     "name": "stdout",
     "output_type": "stream",
     "text": [
      "The average age of the passengers in the Titanic was 29.69911764705882\n"
     ]
    }
   ],
   "source": [
    "df[\"Age\"].mean()\n",
    "\n",
    "print(f'The average age of the passengers in the Titanic was {df[\"Age\"].mean()}')"
   ]
  },
  {
   "cell_type": "markdown",
   "id": "b270693f",
   "metadata": {},
   "source": [
    "## 2. What was the average age of the passengers who survived vs those who didn't?"
   ]
  },
  {
   "cell_type": "code",
   "execution_count": 18,
   "id": "03a264df",
   "metadata": {},
   "outputs": [
    {
     "name": "stdout",
     "output_type": "stream",
     "text": [
      "The average age of the passengers: Survived\n",
      "0    30.626179\n",
      "1    28.343690\n",
      "Name: Age, dtype: float64\n",
      "The average age of the passengers who did not survive: 30.62617924528302\n",
      "The average age of the passengers who survived: 28.343689655172415\n"
     ]
    }
   ],
   "source": [
    "df.groupby(\"Survived\")[\"Age\"].mean()\n",
    "print(f'The average age of the passengers: {df.groupby(\"Survived\")[\"Age\"].mean()}')\n",
    "print(f'The average age of the passengers who did not survive: {df.groupby(\"Survived\")[\"Age\"].mean()[0]}')\n",
    "print(f'The average age of the passengers who survived: {df.groupby(\"Survived\")[\"Age\"].mean()[1]}')"
   ]
  },
  {
   "cell_type": "markdown",
   "id": "8c987329",
   "metadata": {},
   "source": [
    "## 3. What was the average age of survivors vs. non-survivors for each passenger class?"
   ]
  },
  {
   "cell_type": "code",
   "execution_count": 34,
   "id": "34888a70",
   "metadata": {},
   "outputs": [
    {
     "name": "stdout",
     "output_type": "stream",
     "text": [
      "The average age of the passengers who did not survive: Pclass\n",
      "1    43.695312\n",
      "2    33.544444\n",
      "3    26.555556\n",
      "Name: Age, dtype: float64\n",
      "The average age of the passengers who survived: Pclass\n",
      "1    35.368197\n",
      "2    25.901566\n",
      "3    20.646118\n",
      "Name: Age, dtype: float64\n"
     ]
    }
   ],
   "source": [
    "df.groupby([\"Survived\", \"Pclass\"])[\"Age\"].mean()\n",
    "\n",
    "print(f'The average age of the passengers who did not survive: {df.groupby([\"Survived\", \"Pclass\"])[\"Age\"].mean()[0]}')\n",
    "print(f'The average age of the passengers who survived: {df.groupby([\"Survived\", \"Pclass\"])[\"Age\"].mean()[1]}')"
   ]
  },
  {
   "cell_type": "markdown",
   "id": "d7e974d1",
   "metadata": {},
   "source": [
    "## 4. What was the average age of survivors vs. non-survivors for each passenger class and gender?"
   ]
  },
  {
   "cell_type": "code",
   "execution_count": 35,
   "id": "790b92ce",
   "metadata": {},
   "outputs": [
    {
     "data": {
      "text/plain": [
       "Survived  Sex     Pclass\n",
       "0         female  1         25.666667\n",
       "                  2         36.000000\n",
       "                  3         23.818182\n",
       "          male    1         44.581967\n",
       "                  2         33.369048\n",
       "                  3         27.255814\n",
       "1         female  1         34.939024\n",
       "                  2         28.080882\n",
       "                  3         19.329787\n",
       "          male    1         36.248000\n",
       "                  2         16.022000\n",
       "                  3         22.274211\n",
       "Name: Age, dtype: float64"
      ]
     },
     "execution_count": 35,
     "metadata": {},
     "output_type": "execute_result"
    }
   ],
   "source": [
    "df.groupby([\"Survived\", \"Sex\", \"Pclass\"])[\"Age\"].mean()"
   ]
  }
 ],
 "metadata": {
  "kernelspec": {
   "display_name": "Python 3",
   "language": "python",
   "name": "python3"
  },
  "language_info": {
   "codemirror_mode": {
    "name": "ipython",
    "version": 3
   },
   "file_extension": ".py",
   "mimetype": "text/x-python",
   "name": "python",
   "nbconvert_exporter": "python",
   "pygments_lexer": "ipython3",
   "version": "3.12.6"
  }
 },
 "nbformat": 4,
 "nbformat_minor": 5
}
