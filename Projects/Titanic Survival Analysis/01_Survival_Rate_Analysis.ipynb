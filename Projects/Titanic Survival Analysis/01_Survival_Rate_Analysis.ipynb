{
 "cells": [
  {
   "cell_type": "markdown",
   "id": "26884d50",
   "metadata": {},
   "source": [
    "# Stage #4: Combine and Summarize\n",
    "\n",
    "---"
   ]
  },
  {
   "cell_type": "markdown",
   "id": "2fb81d51",
   "metadata": {},
   "source": [
    "## Preparation"
   ]
  },
  {
   "cell_type": "code",
   "execution_count": 2,
   "id": "72190417",
   "metadata": {},
   "outputs": [],
   "source": [
    "import pandas as pd"
   ]
  },
  {
   "cell_type": "code",
   "execution_count": 3,
   "id": "773a1c7b",
   "metadata": {},
   "outputs": [],
   "source": [
    "pd.set_option(\"display.max_columns\", None)\n",
    "df = pd.read_csv(\"C:/Users/malvi/Desktop/data-hw-Malvika-R5/Titanic/dataset_201_guide.csv\")"
   ]
  },
  {
   "cell_type": "markdown",
   "id": "5093c340",
   "metadata": {},
   "source": [
    "## 1. What is the survival rate of the ship?"
   ]
  },
  {
   "cell_type": "code",
   "execution_count": 4,
   "id": "37d1decb",
   "metadata": {},
   "outputs": [
    {
     "name": "stdout",
     "output_type": "stream",
     "text": [
      "The survival rate of the ship is 38.38383838383838\n"
     ]
    }
   ],
   "source": [
    "df[\"Survived\"].mean() * 100\n",
    "print(f\"The survival rate of the ship is {df['Survived'].mean() * 100}\")"
   ]
  },
  {
   "cell_type": "markdown",
   "id": "e765d170",
   "metadata": {},
   "source": [
    "## 2. What is the survival rate for each gender?"
   ]
  },
  {
   "cell_type": "code",
   "execution_count": 11,
   "id": "f2d2df5b",
   "metadata": {},
   "outputs": [
    {
     "name": "stdout",
     "output_type": "stream",
     "text": [
      "The survival rate of each gender:\n",
      "Sex\n",
      "female    74.203822\n",
      "male      18.890815\n",
      "Name: Survived, dtype: float64\n"
     ]
    }
   ],
   "source": [
    "df.groupby('Sex')['Survived'].mean() * 100\n",
    "\n",
    "print(f'The survival rate of each gender:')\n",
    "print(df.groupby('Sex')['Survived'].mean() * 100)"
   ]
  },
  {
   "cell_type": "markdown",
   "id": "32ceebcc",
   "metadata": {},
   "source": [
    "## 3. What is the survival rate for each passenger class?"
   ]
  },
  {
   "cell_type": "code",
   "execution_count": 12,
   "id": "77298aba",
   "metadata": {},
   "outputs": [
    {
     "name": "stdout",
     "output_type": "stream",
     "text": [
      "The survival rate for each passenger class:\n",
      "Pclass\n",
      "1    62.962963\n",
      "2    47.282609\n",
      "3    24.236253\n",
      "Name: Survived, dtype: float64\n"
     ]
    }
   ],
   "source": [
    "df.groupby(\"Pclass\")[\"Survived\"].mean() * 100\n",
    "\n",
    "print(f'The survival rate for each passenger class:')\n",
    "print(df.groupby(\"Pclass\")[\"Survived\"].mean() * 100)"
   ]
  },
  {
   "cell_type": "markdown",
   "id": "d7e220a5",
   "metadata": {},
   "source": [
    "## 4. What is the survival rate of passengers in each embarkation port?"
   ]
  },
  {
   "cell_type": "code",
   "execution_count": 14,
   "id": "8bd07d68",
   "metadata": {},
   "outputs": [
    {
     "name": "stdout",
     "output_type": "stream",
     "text": [
      "The survival rate of passengers in each embarkation port:\n",
      "Embarked\n",
      "C    55.357143\n",
      "Q    38.961039\n",
      "S    33.695652\n",
      "Name: Survived, dtype: float64\n"
     ]
    }
   ],
   "source": [
    "df.groupby(\"Embarked\")[\"Survived\"].mean() * 100\n",
    "\n",
    "print(f'The survival rate of passengers in each embarkation port:')\n",
    "print(df.groupby(\"Embarked\")[\"Survived\"].mean() * 100)"
   ]
  },
  {
   "cell_type": "markdown",
   "id": "ba225ef1",
   "metadata": {},
   "source": [
    "## 5. What is the survival rate for each gender in each passenger class?"
   ]
  },
  {
   "cell_type": "code",
   "execution_count": 15,
   "id": "1feed8c5",
   "metadata": {},
   "outputs": [
    {
     "name": "stdout",
     "output_type": "stream",
     "text": [
      "The survival rate of each gender in each passenger class:\n",
      "Sex     Pclass\n",
      "female  1         96.808511\n",
      "        2         92.105263\n",
      "        3         50.000000\n",
      "male    1         36.885246\n",
      "        2         15.740741\n",
      "        3         13.544669\n",
      "Name: Survived, dtype: float64\n"
     ]
    }
   ],
   "source": [
    "df.groupby([\"Sex\", \"Pclass\"])[\"Survived\"].mean() * 100\n",
    "\n",
    "print(f'The survival rate of each gender in each passenger class:')\n",
    "print(df.groupby([\"Sex\", \"Pclass\"])[\"Survived\"].mean() * 100)"
   ]
  },
  {
   "cell_type": "markdown",
   "id": "327d63e3",
   "metadata": {},
   "source": [
    "## 6. What is the survival rate for each gender that embarked in each port?"
   ]
  },
  {
   "cell_type": "code",
   "execution_count": null,
   "id": "f3b2d221",
   "metadata": {},
   "outputs": [
    {
     "data": {
      "text/plain": [
       "Sex     Embarked\n",
       "female  C           87.671233\n",
       "        Q           75.000000\n",
       "        S           68.965517\n",
       "male    C           30.526316\n",
       "        Q            7.317073\n",
       "        S           17.460317\n",
       "Name: Survived, dtype: float64"
      ]
     },
     "execution_count": 9,
     "metadata": {},
     "output_type": "execute_result"
    }
   ],
   "source": [
    "df.groupby([\"Sex\", \"Embarked\"])[\"Survived\"].mean() * 100"
   ]
  },
  {
   "cell_type": "markdown",
   "id": "9bf383e5",
   "metadata": {},
   "source": [
    "## 7. What is the survival rate for each class that embarked in each port?"
   ]
  },
  {
   "cell_type": "code",
   "execution_count": 10,
   "id": "89436ee9",
   "metadata": {},
   "outputs": [
    {
     "data": {
      "text/plain": [
       "Pclass  Embarked\n",
       "1       C           69.411765\n",
       "        Q           50.000000\n",
       "        S           58.267717\n",
       "2       C           52.941176\n",
       "        Q           66.666667\n",
       "        S           46.341463\n",
       "3       C           37.878788\n",
       "        Q           37.500000\n",
       "        S           18.980170\n",
       "Name: Survived, dtype: float64"
      ]
     },
     "execution_count": 10,
     "metadata": {},
     "output_type": "execute_result"
    }
   ],
   "source": [
    "df.groupby([\"Pclass\", \"Embarked\"])[\"Survived\"].mean() * 100"
   ]
  }
 ],
 "metadata": {
  "kernelspec": {
   "display_name": "Python 3",
   "language": "python",
   "name": "python3"
  },
  "language_info": {
   "codemirror_mode": {
    "name": "ipython",
    "version": 3
   },
   "file_extension": ".py",
   "mimetype": "text/x-python",
   "name": "python",
   "nbconvert_exporter": "python",
   "pygments_lexer": "ipython3",
   "version": "3.12.6"
  }
 },
 "nbformat": 4,
 "nbformat_minor": 5
}
